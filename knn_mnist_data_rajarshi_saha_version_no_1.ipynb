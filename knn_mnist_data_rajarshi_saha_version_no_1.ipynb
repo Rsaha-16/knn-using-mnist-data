{
 "cells": [
  {
   "cell_type": "code",
   "execution_count": 1,
   "id": "9b5bf43e",
   "metadata": {},
   "outputs": [],
   "source": [
    "\n",
    "import gzip\n",
    "import numpy as np\n",
    "import matplotlib.pyplot as plt\n"
   ]
  },
  {
   "cell_type": "markdown",
   "id": "55c9e6c7",
   "metadata": {},
   "source": [
    "# Read MNIST data:\n",
    "There are many [ways](https://stackoverflow.com/questions/40427435/extract-images-from-idx3-ubyte-file-or-gzip-via-python) you can read the MNIST data. Here is a [way](https://stackoverflow.com/a/62781370) to read all the information."
   ]
  },
  {
   "cell_type": "code",
   "execution_count": 2,
   "id": "47ce6c3c",
   "metadata": {},
   "outputs": [
    {
     "name": "stdout",
     "output_type": "stream",
     "text": [
      "Train data (X) size: (60000, 28, 28), and labels (Y) size: (60000,)\n",
      "Test data (X) size: (10000, 28, 28), and labels (Y) size: (10000,)\n"
     ]
    },
    {
     "data": {
      "image/png": "[encoded data removed]",
      "text/plain": [
       "<Figure size 640x480 with 1 Axes>"
      ]
     },
     "metadata": {},
     "output_type": "display_data"
    },
    {
     "name": "stdout",
     "output_type": "stream",
     "text": [
      "Train image 39832-th sample \n",
      "[[  0   0   0   0   0   0   0   0   0   0   0   0   0   0   0   0   0   0\n",
      "    0   0   0   0   0   0   0   0   0   0]\n",
      " [  0   0   0   0   0   0   0   0   0   0   0   0   0   0   0   0   0   0\n",
      "    0   0   0   0   0   0   0   0   0   0]\n",
      " [  0   0   0   0   0   0   0   0   0   0   0   0   0   0   0   0   0   0\n",
      "    0   0   0   0   0   0   0   0   0   0]\n",
      " [  0   0   0   0   0   0   0   0   0   0   0   0   0   0   0   0   0   0\n",
      "    0   0   0   0   0   0   0   0   0   0]\n",
      " [  0   0   0   0   0   0   0   0   0   0   0   0   0   0   0   0   0   0\n",
      "    0   0   0   0   0   0   0   0   0   0]\n",
      " [  0   0   0   0   0   0   0   0   0   0   0   0   0   0   0   0   0   0\n",
      "    0   0   0   0   0   0   0   0   0   0]\n",
      " [  0   0   0   0   0   0   0   0   0   0   0   0   0   0   0   0   0   0\n",
      "    0   0   0   0   0   0   0   0   0   0]\n",
      " [  0   0   0   0   0   0   0   0   0   0   0   0   0   0   0  76  95  95\n",
      "   95 169 198 128  14   0   0   0   0   0]\n",
      " [  0   0   0   0   0   0   0   0  12  37  67 141 209 245 245 253 254 254\n",
      "  254 254 254 254 242 141 127   0   0   0]\n",
      " [  0   0   0   0   0  16 123 188 210 254 254 254 254 254 254 254 254 254\n",
      "  244 171 162  67  67  67  40   0   0   0]\n",
      " [  0   0   0   0   0 154 254 254 254 241 156 125 130 238 254 254 250 192\n",
      "   67   0   0   0   0   0   0   0   0   0]\n",
      " [  0   0   0   0   0 226 254 255 254 120  23   5 118 254 254 226 110   0\n",
      "    0   0   0   0   0   0   0   0   0   0]\n",
      " [  0   0   0   0   0 142 251 254 254 254 233 226 254 254 233  50   0   0\n",
      "    0   0   0   0   0   0   0   0   0   0]\n",
      " [  0   0   0   0   0   0 107 192 192 217 235 254 254 254 254 220 108  41\n",
      "    0   0   0   0   0   0   0   0   0   0]\n",
      " [  0   0   0   0   0   0   0   0   0  17 177 254 253 206 249 253 254 240\n",
      "  145   4   0   0   0   0   0   0   0   0]\n",
      " [  0   0   0   0   0   0   0   0   0   0 177 254 170   0   0  79 231 254\n",
      "  254 224  37   0   0   0   0   0   0   0]\n",
      " [  0   0   0   0   0   0   0   0   0  21 239 248  54   0   0   0  30  52\n",
      "  202 254 221  33   0   0   0   0   0   0]\n",
      " [  0   0   0   0   0   0   0   0   0  27 254 222   0   0   0   0   0   0\n",
      "   16 213 254 153   6   0   0   0   0   0]\n",
      " [  0   0   0   0   0   0   0   0   0  27 254 171   0   0   0   0   0   0\n",
      "    0  77 246 254  36   0   0   0   0   0]\n",
      " [  0   0   0   0   0   0   0   0   0  27 254 247  47   0   0   0   0   0\n",
      "    0   0 229 254  36   0   0   0   0   0]\n",
      " [  0   0   0   0   0   0   0   0   0   8 199 254 162   0   0   0   0   0\n",
      "    0  89 247 254  36   0   0   0   0   0]\n",
      " [  0   0   0   0   0   0   0   0   0   0 169 254 248 139   0   0   4  21\n",
      "   90 247 254 185   4   0   0   0   0   0]\n",
      " [  0   0   0   0   0   0   0   0   0   0  24 206 254 253 172 172 185 254\n",
      "  254 254 249  61   0   0   0   0   0   0]\n",
      " [  0   0   0   0   0   0   0   0   0   0   0  67 208 253 254 254 254 251\n",
      "  248 169  43   0   0   0   0   0   0   0]\n",
      " [  0   0   0   0   0   0   0   0   0   0   0   0   0  81 197 197 180  61\n",
      "   39   0   0   0   0   0   0   0   0   0]\n",
      " [  0   0   0   0   0   0   0   0   0   0   0   0   0   0   0   0   0   0\n",
      "    0   0   0   0   0   0   0   0   0   0]\n",
      " [  0   0   0   0   0   0   0   0   0   0   0   0   0   0   0   0   0   0\n",
      "    0   0   0   0   0   0   0   0   0   0]\n",
      " [  0   0   0   0   0   0   0   0   0   0   0   0   0   0   0   0   0   0\n",
      "    0   0   0   0   0   0   0   0   0   0]]\n"
     ]
    }
   ],
   "source": [
    "def read_images(filename):\n",
    "    \"\"\"Read MNIST images\"\"\"\n",
    "    \n",
    "    with gzip.open(filename, 'r') as f:\n",
    "        # first 4 bytes is a magic number\n",
    "        magic_number = int.from_bytes(f.read(4), 'big')\n",
    "        # second 4 bytes is the number of images\n",
    "        image_count = int.from_bytes(f.read(4), 'big')\n",
    "        # third 4 bytes is the row count\n",
    "        row_count = int.from_bytes(f.read(4), 'big')\n",
    "        # fourth 4 bytes is the column count\n",
    "        column_count = int.from_bytes(f.read(4), 'big')\n",
    "        # rest is the image pixel data, each pixel is stored as an unsigned byte\n",
    "        # pixel values are 0 to 255\n",
    "        image_data = f.read()\n",
    "        images = np.frombuffer(image_data, dtype=np.uint8).reshape((image_count, row_count, column_count))\n",
    "        \n",
    "    return images\n",
    "\n",
    "def read_labels(filename):\n",
    "    \"\"\"Read MNIST labels\"\"\"\n",
    "    \n",
    "    with gzip.open(filename, 'r') as f:\n",
    "        # first 4 bytes is a magic number\n",
    "        magic_number = int.from_bytes(f.read(4), 'big')\n",
    "        # second 4 bytes is the number of labels\n",
    "        label_count = int.from_bytes(f.read(4), 'big')\n",
    "        # rest is the label data, each label is stored as unsigned byte\n",
    "        # label values are 0 to 9\n",
    "        label_data = f.read()\n",
    "        labels = np.frombuffer(label_data, dtype=np.uint8)\n",
    "        \n",
    "    return labels\n",
    "\n",
    "\n",
    "dataset_path = './data/images/mnist/'# Change your data path\n",
    "\n",
    "train_image_filename = ''.join([dataset_path, 'train-images-idx3-ubyte.gz'])\n",
    "train_label_filename = ''.join([dataset_path, 'train-labels-idx1-ubyte.gz'])\n",
    "\n",
    "test_image_filename = ''.join([dataset_path, 't10k-images-idx3-ubyte.gz'])\n",
    "test_label_filename = ''.join([dataset_path, 't10k-labels-idx1-ubyte.gz'])\n",
    "\n",
    "train_images = read_images(train_image_filename)\n",
    "train_labels = read_labels(train_label_filename)\n",
    "print('Train data (X) size: {}, and labels (Y) size: {}' .format(train_images.shape, train_labels.shape))\n",
    "\n",
    "test_images = read_images(test_image_filename)\n",
    "test_labels = read_labels(test_label_filename)\n",
    "print('Test data (X) size: {}, and labels (Y) size: {}' .format(test_images.shape, test_labels.shape))\n",
    "\n",
    "rand_ids = np.random.choice(train_images.shape[0])\n",
    "plt.imshow(train_images[rand_ids, :, :], cmap='gray')\n",
    "plt.title('class-'+str(train_labels[rand_ids]))\n",
    "plt.show()\n",
    "\n",
    "print('Train image {}-th sample ' .format(rand_ids))\n",
    "print(train_images[rand_ids, :, :])\n",
    "\n"
   ]
  },
  {
   "cell_type": "markdown",
   "id": "54daa6a9",
   "metadata": {},
   "source": [
    "# Extract 20% data from thhe training data as a validation set. <font color='red'>Please do not use some standard function from scikit-learn or others!</font>"
   ]
  },
  {
   "cell_type": "code",
   "execution_count": 3,
   "id": "09a49711",
   "metadata": {},
   "outputs": [],
   "source": [
    "\n",
    "x_train_flat=train_images.flatten().reshape(60000,28*28).astype(np.float64)\n",
    "x_test_flat=test_images.flatten().reshape(10000,28*28).astype(np.float64)\n",
    "\n",
    "val_ratio = 0.2\n",
    "val_samples=int(val_ratio * len(x_train_flat))  #12000\n",
    "\n",
    "x_val = x_train_flat[:val_samples]\n",
    "y_val = train_labels[:val_samples]\n",
    "\n",
    "x_train_new=x_train_flat[val_samples:]\n",
    "y_train_new=train_labels[val_samples:]\n"
   ]
  },
  {
   "cell_type": "markdown",
   "id": "d7570a8f",
   "metadata": {},
   "source": [
    "# Implement k-NN classification rule/algorithm, we have discussed in our class. <font color='red'>Please do not use some standard function from scikit-learn or others!</font>"
   ]
  },
  {
   "cell_type": "code",
   "execution_count": 4,
   "id": "5de504a9",
   "metadata": {},
   "outputs": [],
   "source": [
    "def distance_1(X_train, X_test):\n",
    "    distance_matrix = np.zeros((len(X_test), len(X_train)))\n",
    "    for i, test_point in enumerate(X_test):\n",
    "        distances = np.sum(np.abs(X_train - test_point), axis=1)\n",
    "        distance_matrix[i] = distances\n",
    "    idx = np.argsort(distance_matrix,axis=1)\n",
    "    return idx\n",
    "\n",
    "def knn_model(x_train_new, y_train_new, x_test,k,idx):\n",
    "    pred=np.zeros(x_test.shape[0])\n",
    "    for i in range(x_test.shape[0]):\n",
    "        k_nearest_labels = y_train_new[idx[i][:k]]\n",
    "        pred[i]=np.bincount(k_nearest_labels).argmax()\n",
    "    \n",
    "    return pred   \n",
    "\n",
    "acc1={}\n",
    "\n",
    "dist_1= distance_1(x_train_new, x_val)\n",
    "\n",
    "for k in range(1,26,2):\n",
    "    p_1=knn_model(x_train_new,y_train_new,x_val,k,dist_1)\n",
    "    accuracy=np.mean(p_1==y_val)\n",
    "    acc1[k]=accuracy\n",
    "    print(f\"for {k} accuracy={accuracy}\")"
   ]
  },
  {
   "cell_type": "code",
   "execution_count": null,
   "id": "2e61ef42",
   "metadata": {},
   "outputs": [],
   "source": [
    "def distance_2(X_train, X_test):\n",
    "    distance_matrix = np.zeros((len(X_test), len(X_train)))\n",
    "    for i, test_point in enumerate(X_test):\n",
    "        distances = np.sqrt(np.sum((X_train - test_point) ** 2, axis=1))\n",
    "        distance_matrix[i] = distances\n",
    "    idx = np.argsort(distance_matrix,axis=1)\n",
    "    return idx\n",
    "\n",
    "\n",
    "def knn_model(x_train_new, y_train_new, x_test,k,idx):\n",
    "    pred=np.zeros(x_test.shape[0])\n",
    "    for i in range(x_test.shape[0]):\n",
    "        k_nearest_labels = y_train_new[idx[i][:k]]\n",
    "        pred[i]=np.bincount(k_nearest_labels).argmax()\n",
    "    \n",
    "    return pred  \n",
    "\n",
    "acc2={}\n",
    "\n",
    "dist_2= distance_2(x_train_new, x_val)\n",
    "\n",
    "for k in range(1,26,2):\n",
    "    p_2=knn_model(x_train_new,y_train_new,x_val,k,dist_2)\n",
    "    accuracy=np.mean(p_2==y_val)\n",
    "    acc2[k]=accuracy\n",
    "    print(f\"for {k} accuracy={accuracy}\")"
   ]
  },
  {
   "cell_type": "code",
   "execution_count": null,
   "id": "e345823d",
   "metadata": {},
   "outputs": [],
   "source": [
    "def distance_inf(X_train, X_test):\n",
    "    distance_matrix = np.zeros((len(X_test), len(X_train)))\n",
    "    for i, test_point in enumerate(X_test):\n",
    "        distances = np.max(np.abs(X_train - test_point), axis=1)\n",
    "        distance_matrix[i] = distances\n",
    "    idx = np.argsort(distance_matrix,axis=1)\n",
    "    return idx\n",
    "\n",
    "def knn_model(x_train_new, y_train_new, x_test,k,idx):\n",
    "    pred=np.zeros(x_test.shape[0])\n",
    "    for i in range(x_test.shape[0]):\n",
    "        k_nearest_labels = y_train_new[idx[i][:k]]\n",
    "        pred[i]=np.bincount(k_nearest_labels).argmax()\n",
    "    \n",
    "    return pred  \n",
    "\n",
    "acc3={}\n",
    "\n",
    "dist_inf= distance_inf(x_train_new, x_val)\n",
    "\n",
    "for k in range(1,26,2):\n",
    "    p_3=knn_model(x_train_new,y_train_new,x_val,k,dist_inf)\n",
    "    accuracy=np.mean(p_3==y_val)\n",
    "    acc3[k]=accuracy\n",
    "    print(f\"for {k} accuracy={accuracy}\")"
   ]
  },
  {
   "cell_type": "markdown",
   "id": "5fff57c2",
   "metadata": {},
   "source": [
    " <h1> 3-D Plotting </h1>"
   ]
  },
  {
   "cell_type": "code",
   "execution_count": null,
   "id": "419c1e8a",
   "metadata": {},
   "outputs": [],
   "source": [
    "from mpl_toolkits import mplot3d\n",
    "fig = plt.figure()\n",
    "ax = plt.axes(projection = \"3d\")\n",
    "x = np.array([[1]*13 , ([2]*13) , ([3]*13)]) \n",
    "b = [int(k) for k in range (1,26,2)]\n",
    "y = np.array([b,b,b])\n",
    "z = np.array([list(acc1.values()),list(acc2.values()),list(acc3.values())])\n",
    "ax.plot_surface(x,y,z,cmap = 'coolwarm',edgecolor = 'pink')\n",
    "ax.set_title('3D surface plot for Accuracy(Z-Axis) , K-value(Y Axis) & p value(X Axis)')\n",
    "ax.set_xticks([1, 2, 3])\n",
    "ax.set_xticklabels(['1', '2', 'inf'])\n",
    "plt.show()"
   ]
  },
  {
   "cell_type": "markdown",
   "id": "54d79345",
   "metadata": {},
   "source": [
    "<h1> Extracting Dictionary \"values\" and creating list to construct Data frame"
   ]
  },
  {
   "cell_type": "code",
   "execution_count": null,
   "id": "a1d671c7",
   "metadata": {},
   "outputs": [],
   "source": [
    "z = np.array([list(acc1.values()),list(acc2.values()),list(acc3.values())])\n",
    "z_transpose=z.T"
   ]
  },
  {
   "cell_type": "markdown",
   "id": "60fbeedc",
   "metadata": {},
   "source": [
    "<h1> Created Data Frame </h1>"
   ]
  },
  {
   "cell_type": "code",
   "execution_count": null,
   "id": "46da4714",
   "metadata": {},
   "outputs": [],
   "source": [
    "import pandas as pd \n",
    "\n",
    "col=[\"P=1\",\"P=2\",\"P=inf\"]\n",
    "\n",
    "df=pd.DataFrame(z_transpose,index=b,columns=col)\n",
    "df"
   ]
  },
  {
   "cell_type": "markdown",
   "id": "3890bebd",
   "metadata": {},
   "source": [
    "<h1> Maximum accuracy Value and corresponding P ,  K value finding </h1>"
   ]
  },
  {
   "cell_type": "code",
   "execution_count": null,
   "id": "c98e56b2",
   "metadata": {},
   "outputs": [],
   "source": [
    "max_value = df.max().max()\n",
    "max_value_index = df.stack().idxmax()\n",
    "\n",
    "print (\"Max accuracy got for K value \" , max_value_index[0],\"and \", max_value_index[1] , \" ,max value is =\" ,max_value)"
   ]
  },
  {
   "cell_type": "markdown",
   "id": "3fd48e65",
   "metadata": {},
   "source": [
    "<h1> Predicting for test_data </h1>"
   ]
  },
  {
   "cell_type": "code",
   "execution_count": null,
   "id": "5130ba27",
   "metadata": {},
   "outputs": [],
   "source": [
    "test_dist= distance_2(x_train_flat, x_test_flat)\n",
    "\n",
    "test_predict=knn_model(x_train_flat,train_labels,x_test_flat,max_value_index[0],test_dist)\n",
    "accuracy_test=np.mean(test_predict==test_labels)\n"
   ]
  },
  {
   "cell_type": "markdown",
   "id": "28b48baf",
   "metadata": {},
   "source": [
    "<h1> Accuracy for Test_data </h1>"
   ]
  },
  {
   "cell_type": "code",
   "execution_count": null,
   "id": "96150dbb",
   "metadata": {},
   "outputs": [],
   "source": [
    "print(\"Accuracy fo test data is : \" , accuracy_test*100 , \"%\")"
   ]
  },
  {
   "cell_type": "code",
   "execution_count": null,
   "id": "7526e643",
   "metadata": {},
   "outputs": [],
   "source": []
  },
  {
   "cell_type": "code",
   "execution_count": null,
   "id": "569ffdc4",
   "metadata": {},
   "outputs": [],
   "source": []
  }
 ],
 "metadata": {
  "kernelspec": {
   "display_name": "Python 3 (ipykernel)",
   "language": "python",
   "name": "python3"
  },
  "language_info": {
   "codemirror_mode": {
    "name": "ipython",
    "version": 3
   },
   "file_extension": ".py",
   "mimetype": "text/x-python",
   "name": "python",
   "nbconvert_exporter": "python",
   "pygments_lexer": "ipython3",
   "version": "3.10.12"
  }
 },
 "nbformat": 4,
 "nbformat_minor": 5
}
